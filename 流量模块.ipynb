{
 "cells": [
  {
   "cell_type": "markdown",
   "metadata": {},
   "source": [
    "访问uv"
   ]
  },
  {
   "cell_type": "markdown",
   "metadata": {},
   "source": [
    "新访uv"
   ]
  },
  {
   "cell_type": "markdown",
   "metadata": {},
   "source": [
    "转化率"
   ]
  },
  {
   "cell_type": "markdown",
   "metadata": {},
   "source": [
    "1uv流水"
   ]
  },
  {
   "cell_type": "markdown",
   "metadata": {},
   "source": [
    "app端新增激活"
   ]
  },
  {
   "cell_type": "markdown",
   "metadata": {},
   "source": [
    "老访未消uv"
   ]
  },
  {
   "cell_type": "markdown",
   "metadata": {},
   "source": [
    "老访已消uv"
   ]
  }
 ],
 "metadata": {
  "kernelspec": {
   "display_name": "Python 3",
   "language": "python",
   "name": "python3"
  },
  "language_info": {
   "codemirror_mode": {
    "name": "ipython",
    "version": 3
   },
   "file_extension": ".py",
   "mimetype": "text/x-python",
   "name": "python",
   "nbconvert_exporter": "python",
   "pygments_lexer": "ipython3",
   "version": "3.7.1"
  }
 },
 "nbformat": 4,
 "nbformat_minor": 2
}
